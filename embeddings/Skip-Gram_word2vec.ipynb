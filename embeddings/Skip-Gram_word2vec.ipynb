{
 "cells": [
  {
   "cell_type": "markdown",
   "metadata": {
    "deletable": true,
    "editable": true
   },
   "source": [
    "# Skip-gram word2vec\n",
    "\n",
    "In this notebook, I'll lead you through using TensorFlow to implement the word2vec algorithm using the skip-gram architecture. By implementing this, you'll learn about embedding words for use in natural language processing. This will come in handy when dealing with things like translations.\n",
    "\n",
    "## Readings\n",
    "\n",
    "Here are the resources I used to build this notebook. I suggest reading these either beforehand or while you're working on this material.\n",
    "\n",
    "* A really good [conceptual overview](http://mccormickml.com/2016/04/19/word2vec-tutorial-the-skip-gram-model/) of word2vec from Chris McCormick \n",
    "* [First word2vec paper](https://arxiv.org/pdf/1301.3781.pdf) from Mikolov et al.\n",
    "* [NIPS paper](http://papers.nips.cc/paper/5021-distributed-representations-of-words-and-phrases-and-their-compositionality.pdf) with improvements for word2vec also from Mikolov et al.\n",
    "* An [implementation of word2vec](http://www.thushv.com/natural_language_processing/word2vec-part-1-nlp-with-deep-learning-with-tensorflow-skip-gram/) from Thushan Ganegedara\n",
    "* TensorFlow [word2vec tutorial](https://www.tensorflow.org/tutorials/word2vec)\n",
    "\n",
    "## Word embeddings\n",
    "\n",
    "When you're dealing with language and words, you end up with tens of thousands of classes to predict, one for each word. Trying to one-hot encode these words is massively inefficient, you'll have one element set to 1 and the other 50,000 set to 0. The word2vec algorithm finds much more efficient representations by finding vectors that represent the words. These vectors also contain semantic information about the words. Words that show up in similar contexts, such as \"black\", \"white\", and \"red\" will have vectors near each other. There are two architectures for implementing word2vec, CBOW (Continuous Bag-Of-Words) and Skip-gram.\n",
    "\n",
    "<img src=\"assets/word2vec_architectures.png\" width=\"500\">\n",
    "\n",
    "In this implementation, we'll be using the skip-gram architecture because it performs better than CBOW. Here, we pass in a word and try to predict the words surrounding it in the text. In this way, we can train the network to learn representations for words that show up in similar contexts.\n",
    "\n",
    "First up, importing packages."
   ]
  },
  {
   "cell_type": "code",
   "execution_count": 1,
   "metadata": {
    "collapsed": false,
    "deletable": true,
    "editable": true
   },
   "outputs": [
    {
     "name": "stdout",
     "output_type": "stream",
     "text": [
      "1.1.0\n"
     ]
    }
   ],
   "source": [
    "import time\n",
    "\n",
    "import numpy as np\n",
    "import tensorflow as tf\n",
    "\n",
    "import utils\n",
    "\n",
    "print(tf.__version__)"
   ]
  },
  {
   "cell_type": "markdown",
   "metadata": {
    "deletable": true,
    "editable": true
   },
   "source": [
    "Load the [text8 dataset](http://mattmahoney.net/dc/textdata.html), a file of cleaned up Wikipedia articles from Matt Mahoney. The next cell will download the data set to the `data` folder. Then you can extract it and delete the archive file to save storage space."
   ]
  },
  {
   "cell_type": "code",
   "execution_count": 2,
   "metadata": {
    "collapsed": false,
    "deletable": true,
    "editable": true
   },
   "outputs": [],
   "source": [
    "from urllib.request import urlretrieve\n",
    "from os.path import isfile, isdir\n",
    "from tqdm import tqdm\n",
    "import zipfile\n",
    "\n",
    "dataset_folder_path = 'data'\n",
    "dataset_filename = 'text8.zip'\n",
    "dataset_name = 'Text8 Dataset'\n",
    "\n",
    "class DLProgress(tqdm):\n",
    "    last_block = 0\n",
    "\n",
    "    def hook(self, block_num=1, block_size=1, total_size=None):\n",
    "        self.total = total_size\n",
    "        self.update((block_num - self.last_block) * block_size)\n",
    "        self.last_block = block_num\n",
    "\n",
    "if not isfile(dataset_filename):\n",
    "    with DLProgress(unit='B', unit_scale=True, miniters=1, desc=dataset_name) as pbar:\n",
    "        urlretrieve(\n",
    "            'http://mattmahoney.net/dc/text8.zip',\n",
    "            dataset_filename,\n",
    "            pbar.hook)\n",
    "\n",
    "if not isdir(dataset_folder_path):\n",
    "    with zipfile.ZipFile(dataset_filename) as zip_ref:\n",
    "        zip_ref.extractall(dataset_folder_path)\n",
    "        \n",
    "with open('data/text8') as f:\n",
    "    text = f.read()"
   ]
  },
  {
   "cell_type": "markdown",
   "metadata": {
    "deletable": true,
    "editable": true
   },
   "source": [
    "## Preprocessing\n",
    "\n",
    "Here I'm fixing up the text to make training easier. This comes from the `utils` module I wrote. The `preprocess` function coverts any punctuation into tokens, so a period is changed to ` <PERIOD> `. In this data set, there aren't any periods, but it will help in other NLP problems. I'm also removing all words that show up five or fewer times in the dataset. This will greatly reduce issues due to noise in the data and improve the quality of the vector representations. If you want to write your own functions for this stuff, go for it."
   ]
  },
  {
   "cell_type": "code",
   "execution_count": 3,
   "metadata": {
    "collapsed": false,
    "deletable": true,
    "editable": true
   },
   "outputs": [
    {
     "name": "stdout",
     "output_type": "stream",
     "text": [
      "['anarchism', 'originated', 'as', 'a', 'term', 'of', 'abuse', 'first', 'used', 'against', 'early', 'working', 'class', 'radicals', 'including', 'the', 'diggers', 'of', 'the', 'english', 'revolution', 'and', 'the', 'sans', 'culottes', 'of', 'the', 'french', 'revolution', 'whilst']\n"
     ]
    }
   ],
   "source": [
    "words = utils.preprocess(text)\n",
    "print(words[:30])"
   ]
  },
  {
   "cell_type": "code",
   "execution_count": 4,
   "metadata": {
    "collapsed": false,
    "deletable": true,
    "editable": true
   },
   "outputs": [
    {
     "name": "stdout",
     "output_type": "stream",
     "text": [
      "Total words: 16680599\n",
      "Unique words: 63641\n"
     ]
    }
   ],
   "source": [
    "print(\"Total words: {}\".format(len(words)))\n",
    "print(\"Unique words: {}\".format(len(set(words))))"
   ]
  },
  {
   "cell_type": "markdown",
   "metadata": {
    "deletable": true,
    "editable": true
   },
   "source": [
    "And here I'm creating dictionaries to covert words to integers and backwards, integers to words. The integers are assigned in descending frequency order, so the most frequent word (\"the\") is given the integer 0 and the next most frequent is 1 and so on. The words are converted to integers and stored in the list `int_words`."
   ]
  },
  {
   "cell_type": "code",
   "execution_count": 5,
   "metadata": {
    "collapsed": false,
    "deletable": true,
    "editable": true
   },
   "outputs": [],
   "source": [
    "vocab_to_int, int_to_vocab = utils.create_lookup_tables(words)\n",
    "int_words = [vocab_to_int[word] for word in words]"
   ]
  },
  {
   "cell_type": "markdown",
   "metadata": {
    "deletable": true,
    "editable": true
   },
   "source": [
    "## Subsampling\n",
    "\n",
    "Words that show up often such as \"the\", \"of\", and \"for\" don't provide much context to the nearby words. If we discard some of them, we can remove some of the noise from our data and in return get faster training and better representations. This process is called subsampling by Mikolov. For each word $w_i$ in the training set, we'll discard it with probability given by \n",
    "\n",
    "$$ P(w_i) = 1 - \\sqrt{\\frac{t}{f(w_i)}} $$\n",
    "\n",
    "where $t$ is a threshold parameter and $f(w_i)$ is the frequency of word $w_i$ in the total dataset.\n",
    "\n",
    "I'm going to leave this up to you as an exercise. This is more of a programming challenge, than about deep learning specifically. But, being able to prepare your data for your network is an important skill to have. Check out my solution to see how I did it.\n",
    "\n",
    "> **Exercise:** Implement subsampling for the words in `int_words`. That is, go through `int_words` and discard each word given the probablility $P(w_i)$ shown above. Note that $P(w_i)$ is the probability that a word is discarded. Assign the subsampled data to `train_words`."
   ]
  },
  {
   "cell_type": "code",
   "execution_count": 6,
   "metadata": {
    "collapsed": false,
    "deletable": true,
    "editable": true
   },
   "outputs": [],
   "source": [
    "## Your code here\n",
    "from collections import Counter\n",
    "import random\n",
    "\n",
    "threshold = 1e-5\n",
    "word_counts = Counter(int_words)\n",
    "total_count = len(int_words)\n",
    "freqs = {word: count/total_count for word, count in word_counts.items()}\n",
    "p_drop = {word: 1-np.sqrt(threshold/freqs[word]) for word in word_counts}\n",
    "train_words = [word for word in int_words if p_drop[word] < random.random()]# The final subsampled word list"
   ]
  },
  {
   "cell_type": "markdown",
   "metadata": {
    "deletable": true,
    "editable": true
   },
   "source": [
    "## Making batches"
   ]
  },
  {
   "cell_type": "markdown",
   "metadata": {
    "deletable": true,
    "editable": true
   },
   "source": [
    "Now that our data is in good shape, we need to get it into the proper form to pass it into our network. With the skip-gram architecture, for each word in the text, we want to grab all the words in a window around that word, with size $C$. \n",
    "\n",
    "From [Mikolov et al.](https://arxiv.org/pdf/1301.3781.pdf): \n",
    "\n",
    "\"Since the more distant words are usually less related to the current word than those close to it, we give less weight to the distant words by sampling less from those words in our training examples... If we choose $C = 5$, for each training word we will select randomly a number $R$ in range $< 1; C >$, and then use $R$ words from history and $R$ words from the future of the current word as correct labels.\"\n",
    "\n",
    "> **Exercise:** Implement a function `get_target` that receives a list of words, an index, and a window size, then returns a list of words in the window around the index. Make sure to use the algorithm described above, where you choose a random number of words from the window."
   ]
  },
  {
   "cell_type": "code",
   "execution_count": 7,
   "metadata": {
    "collapsed": true,
    "deletable": true,
    "editable": true
   },
   "outputs": [],
   "source": [
    "def get_target(words, idx, window_size=5):\n",
    "    ''' Get a list of words in a window around an index. '''\n",
    "    \n",
    "    # Your code here\n",
    "    R = np.random.randint(1, window_size+1)\n",
    "    start = idx - R if (idx - R) > 0 else 0\n",
    "    stop = idx + R\n",
    "    target_words = set(words[start:idx] + words[idx+1:stop+1])\n",
    "    \n",
    "    return list(target_words)"
   ]
  },
  {
   "cell_type": "markdown",
   "metadata": {
    "deletable": true,
    "editable": true
   },
   "source": [
    "Here's a function that returns batches for our network. The idea is that it grabs `batch_size` words from a words list. Then for each of those words, it gets the target words in the window. I haven't found a way to pass in a random number of target words and get it to work with the architecture, so I make one row per input-target pair. This is a generator function by the way, helps save memory."
   ]
  },
  {
   "cell_type": "code",
   "execution_count": 8,
   "metadata": {
    "collapsed": false,
    "deletable": true,
    "editable": true
   },
   "outputs": [],
   "source": [
    "def get_batches(words, batch_size, window_size=5):\n",
    "    ''' Create a generator of word batches as a tuple (inputs, targets) '''\n",
    "    \n",
    "    n_batches = len(words)//batch_size\n",
    "    \n",
    "    # only full batches\n",
    "    words = words[:n_batches*batch_size]\n",
    "    \n",
    "    for idx in range(0, len(words), batch_size):\n",
    "        x, y = [], []\n",
    "        batch = words[idx:idx+batch_size]\n",
    "        for ii in range(len(batch)):\n",
    "            batch_x = batch[ii]\n",
    "            batch_y = get_target(batch, ii, window_size)\n",
    "            y.extend(batch_y)\n",
    "            x.extend([batch_x]*len(batch_y))\n",
    "        yield x, y\n",
    "    "
   ]
  },
  {
   "cell_type": "markdown",
   "metadata": {
    "collapsed": false,
    "deletable": true,
    "editable": true
   },
   "source": [
    "## Building the graph\n",
    "\n",
    "From Chris McCormick's blog, we can see the general structure of our network.\n",
    "![embedding_network](./assets/skip_gram_net_arch.png)\n",
    "\n",
    "The input words are passed in as one-hot encoded vectors. This will go into a hidden layer of linear units, then into a softmax layer. We'll use the softmax layer to make a prediction like normal.\n",
    "\n",
    "The idea here is to train the hidden layer weight matrix to find efficient representations for our words. This weight matrix is usually called the embedding matrix or embedding look-up table. We can discard the softmax layer becuase we don't really care about making predictions with this network. We just want the embedding matrix so we can use it in other networks we build from the dataset.\n",
    "\n",
    "I'm going to have you build the graph in stages now. First off, creating the `inputs` and `labels` placeholders like normal.\n",
    "\n",
    "> **Exercise:** Assign `inputs` and `labels` using `tf.placeholder`. We're going to be passing in integers, so set the data types to `tf.int32`. The batches we're passing in will have varying sizes, so set the batch sizes to [`None`]. To make things work later, you'll need to set the second dimension of `labels` to `None` or `1`."
   ]
  },
  {
   "cell_type": "code",
   "execution_count": 9,
   "metadata": {
    "collapsed": false,
    "deletable": true,
    "editable": true
   },
   "outputs": [],
   "source": [
    "train_graph = tf.Graph()\n",
    "with train_graph.as_default():\n",
    "    inputs = tf.placeholder(tf.int32, [None], name='inputs')\n",
    "    labels = tf.placeholder(tf.int32, [None, None], name='labels')"
   ]
  },
  {
   "cell_type": "markdown",
   "metadata": {
    "deletable": true,
    "editable": true
   },
   "source": [
    "## Embedding\n",
    "\n"
   ]
  },
  {
   "cell_type": "markdown",
   "metadata": {
    "collapsed": true,
    "deletable": true,
    "editable": true
   },
   "source": [
    "The embedding matrix has a size of the number of words by the number of neurons in the hidden layer. So, if you have 10,000 words and 300 hidden units, the matrix will have size $10,000 \\times 300$. Remember that we're using one-hot encoded vectors for our inputs. When you do the matrix multiplication of the one-hot vector with the embedding matrix, you end up selecting only one row out of the entire matrix:\n",
    "\n",
    "![one-hot matrix multiplication](assets/matrix_mult_w_one_hot.png)\n",
    "\n",
    "You don't actually need to do the matrix multiplication, you just need to select the row in the embedding matrix that corresponds to the input word. Then, the embedding matrix becomes a lookup table, you're looking up a vector the size of the hidden layer that represents the input word.\n",
    "\n",
    "<img src=\"assets/word2vec_weight_matrix_lookup_table.png\" width=500>\n",
    "\n",
    "\n",
    "> **Exercise:** Tensorflow provides a convenient function [`tf.nn.embedding_lookup`](https://www.tensorflow.org/api_docs/python/tf/nn/embedding_lookup) that does this lookup for us. You pass in the embedding matrix and a tensor of integers, then it returns rows in the matrix corresponding to those integers. Below, set the number of embedding features you'll use (200 is a good start), create the embedding matrix variable, and use [`tf.nn.embedding_lookup`](https://www.tensorflow.org/api_docs/python/tf/nn/embedding_lookup) to get the embedding tensors. For the embedding matrix, I suggest you initialize it with a uniform random numbers between -1 and 1 using [tf.random_uniform](https://www.tensorflow.org/api_docs/python/tf/random_uniform). This [TensorFlow tutorial](https://www.tensorflow.org/tutorials/word2vec) will help if you get stuck."
   ]
  },
  {
   "cell_type": "code",
   "execution_count": 10,
   "metadata": {
    "collapsed": false,
    "deletable": true,
    "editable": true
   },
   "outputs": [],
   "source": [
    "n_vocab = len(int_to_vocab)\n",
    "n_embedding = 200 # Number of embedding features \n",
    "with train_graph.as_default():\n",
    "    embedding = tf.Variable(tf.random_uniform((n_vocab, n_embedding), -1, 1))# create embedding weight matrix here\n",
    "    embed = tf.nn.embedding_lookup(embedding, inputs) # use tf.nn.embedding_lookup to get the hidden layer output"
   ]
  },
  {
   "cell_type": "markdown",
   "metadata": {
    "deletable": true,
    "editable": true
   },
   "source": [
    "## Negative sampling\n",
    "\n"
   ]
  },
  {
   "cell_type": "markdown",
   "metadata": {
    "deletable": true,
    "editable": true
   },
   "source": [
    "For every example we give the network, we train it using the output from the softmax layer. That means for each input, we're making very small changes to millions of weights even though we only have one true example. This makes training the network very inefficient. We can approximate the loss from the softmax layer by only updating a small subset of all the weights at once. We'll update the weights for the correct label, but only a small number of incorrect labels. This is called [\"negative sampling\"](http://papers.nips.cc/paper/5021-distributed-representations-of-words-and-phrases-and-their-compositionality.pdf). Tensorflow has a convenient function to do this, [`tf.nn.sampled_softmax_loss`](https://www.tensorflow.org/api_docs/python/tf/nn/sampled_softmax_loss).\n",
    "\n",
    "> **Exercise:** Below, create weights and biases for the softmax layer. Then, use [`tf.nn.sampled_softmax_loss`](https://www.tensorflow.org/api_docs/python/tf/nn/sampled_softmax_loss) to calculate the loss. Be sure to read the documentation to figure out how it works."
   ]
  },
  {
   "cell_type": "code",
   "execution_count": 14,
   "metadata": {
    "collapsed": false,
    "deletable": true,
    "editable": true
   },
   "outputs": [],
   "source": [
    "# Number of negative labels to sample\n",
    "n_sampled = 100\n",
    "with train_graph.as_default():\n",
    "    softmax_w = tf.Variable(tf.truncated_normal((n_vocab, n_embedding), stddev=0.1)) # create softmax weight matrix here\n",
    "    softmax_b = tf.Variable(tf.zeros(n_vocab))# create softmax biases here\n",
    "    \n",
    "    # Calculate the loss using negative sampling\n",
    "    loss = tf.nn.sampled_softmax_loss(softmax_w, softmax_b, labels, embed, n_sampled, n_vocab)\n",
    "    \n",
    "    cost = tf.reduce_mean(loss)\n",
    "    optimizer = tf.train.AdamOptimizer().minimize(cost)"
   ]
  },
  {
   "cell_type": "markdown",
   "metadata": {
    "deletable": true,
    "editable": true
   },
   "source": [
    "## Validation\n",
    "\n",
    "This code is from Thushan Ganegedara's implementation. Here we're going to choose a few common words and few uncommon words. Then, we'll print out the closest words to them. It's a nice way to check that our embedding table is grouping together words with similar semantic meanings."
   ]
  },
  {
   "cell_type": "code",
   "execution_count": 13,
   "metadata": {
    "collapsed": true,
    "deletable": true,
    "editable": true
   },
   "outputs": [],
   "source": [
    "with train_graph.as_default():\n",
    "    ## From Thushan Ganegedara's implementation\n",
    "    valid_size = 16 # Random set of words to evaluate similarity on.\n",
    "    valid_window = 100\n",
    "    # pick 8 samples from (0,100) and (1000,1100) each ranges. lower id implies more frequent \n",
    "    valid_examples = np.array(random.sample(range(valid_window), valid_size//2))\n",
    "    valid_examples = np.append(valid_examples, \n",
    "                               random.sample(range(1000,1000+valid_window), valid_size//2))\n",
    "\n",
    "    valid_dataset = tf.constant(valid_examples, dtype=tf.int32)\n",
    "    \n",
    "    # We use the cosine distance:\n",
    "    norm = tf.sqrt(tf.reduce_sum(tf.square(embedding), 1, keep_dims=True))\n",
    "    normalized_embedding = embedding / norm\n",
    "    valid_embedding = tf.nn.embedding_lookup(normalized_embedding, valid_dataset)\n",
    "    similarity = tf.matmul(valid_embedding, tf.transpose(normalized_embedding))"
   ]
  },
  {
   "cell_type": "code",
   "execution_count": 15,
   "metadata": {
    "collapsed": true,
    "deletable": true,
    "editable": true
   },
   "outputs": [],
   "source": [
    "# If the checkpoints directory doesn't exist:\n",
    "!mkdir checkpoints"
   ]
  },
  {
   "cell_type": "markdown",
   "metadata": {
    "deletable": true,
    "editable": true
   },
   "source": [
    "## Training\n",
    "\n",
    "Below is the code to train the network. Every 100 batches it reports the training loss. Every 1000 batches, it'll print out the validation words."
   ]
  },
  {
   "cell_type": "code",
   "execution_count": 16,
   "metadata": {
    "collapsed": false,
    "deletable": true,
    "editable": true
   },
   "outputs": [
    {
     "name": "stdout",
     "output_type": "stream",
     "text": [
      "Epoch 1/10 Iteration: 100 Avg. Training loss: 5.6560 0.4203 sec/batch\n",
      "Epoch 1/10 Iteration: 200 Avg. Training loss: 5.6185 0.4213 sec/batch\n",
      "Epoch 1/10 Iteration: 300 Avg. Training loss: 5.5186 0.4110 sec/batch\n",
      "Epoch 1/10 Iteration: 400 Avg. Training loss: 5.6073 0.4152 sec/batch\n",
      "Epoch 1/10 Iteration: 500 Avg. Training loss: 5.5143 0.3819 sec/batch\n",
      "Epoch 1/10 Iteration: 600 Avg. Training loss: 5.5479 0.4312 sec/batch\n",
      "Epoch 1/10 Iteration: 700 Avg. Training loss: 5.5758 0.4075 sec/batch\n",
      "Epoch 1/10 Iteration: 800 Avg. Training loss: 5.5393 0.4095 sec/batch\n",
      "Epoch 1/10 Iteration: 900 Avg. Training loss: 5.4547 0.4098 sec/batch\n",
      "Epoch 1/10 Iteration: 1000 Avg. Training loss: 5.4578 0.4013 sec/batch\n",
      "Nearest to years: copilot, bookchin, interjection, stair, adoring, ragenfrid, maaouya, infty,\n",
      "Nearest to seven: benefactor, rosary, pandit, ayahuasca, wicasa, shouting, drip, hokku,\n",
      "Nearest to often: castaways, guinee, concordes, million, plh, almanac, henan, cls,\n",
      "Nearest to between: emphasizes, shuffles, venus, poee, ratu, unwillingly, ado, kurz,\n",
      "Nearest to one: grandpa, libraries, scholar, delincee, miscarriage, destinies, durga, brunt,\n",
      "Nearest to not: soloists, forgive, hutch, traditionalist, intense, animalia, fretted, grout,\n",
      "Nearest to three: vonnegut, lda, participated, culpability, unification, ladies, hants, snowy,\n",
      "Nearest to be: bok, interscope, experimenting, differentiability, quaid, tanna, metaphorical, lipinski,\n",
      "Nearest to consists: thuringia, adjectives, addresses, adriatic, endings, vinci, exhorted, mayerling,\n",
      "Nearest to event: quintessence, baresi, wollstonecraft, bartlett, redman, goatskin, ayurvedic, gions,\n",
      "Nearest to writers: nods, pella, universitaire, salaried, alif, horns, bourque, seeks,\n",
      "Nearest to experience: peptidoglycan, provider, open, uninterested, lika, impressed, aberystwyth, artful,\n",
      "Nearest to square: olissipo, trade, guerrillas, freeport, andriessen, demarco, cigarettes, spectrometry,\n",
      "Nearest to instance: herbicides, speeches, patrol, manmade, marble, unannounced, rewrites, dewan,\n",
      "Nearest to institute: lodges, carnage, placebo, culminating, mathematische, clothe, unbeatable, terrain,\n",
      "Nearest to pressure: earle, unmaking, crisp, tls, masonry, leukemia, evading, alvarez,\n",
      "Epoch 1/10 Iteration: 1100 Avg. Training loss: 5.4944 0.4119 sec/batch\n",
      "Epoch 1/10 Iteration: 1200 Avg. Training loss: 5.4059 0.3995 sec/batch\n",
      "Epoch 1/10 Iteration: 1300 Avg. Training loss: 5.3344 0.3949 sec/batch\n",
      "Epoch 1/10 Iteration: 1400 Avg. Training loss: 5.2553 0.4329 sec/batch\n",
      "Epoch 1/10 Iteration: 1500 Avg. Training loss: 5.1975 0.4099 sec/batch\n",
      "Epoch 1/10 Iteration: 1600 Avg. Training loss: 5.1602 0.3771 sec/batch\n",
      "Epoch 1/10 Iteration: 1700 Avg. Training loss: 5.0977 0.4496 sec/batch\n",
      "Epoch 1/10 Iteration: 1800 Avg. Training loss: 5.0769 0.3694 sec/batch\n",
      "Epoch 1/10 Iteration: 1900 Avg. Training loss: 5.0258 0.4636 sec/batch\n",
      "Epoch 1/10 Iteration: 2000 Avg. Training loss: 4.9821 0.3850 sec/batch\n",
      "Nearest to years: copilot, detail, word, to, modern, interjection, bookchin, funding,\n",
      "Nearest to seven: benefactor, rosary, merchant, ayahuasca, pandit, wicasa, which, correct,\n",
      "Nearest to often: indicate, castaways, million, biology, concordes, ut, too, definition,\n",
      "Nearest to between: emphasizes, reign, venus, asexual, stated, ratu, personnel, together,\n",
      "Nearest to one: libraries, miscarriage, outright, doctors, scholar, throne, flesh, suffolk,\n",
      "Nearest to not: soloists, forgive, intense, team, pronouncements, care, bullets, assume,\n",
      "Nearest to three: participated, vonnegut, ladies, birth, unification, half, strengthened, culpability,\n",
      "Nearest to be: differentiability, experimenting, subject, aluminum, metaphorical, bok, interscope, quaid,\n",
      "Nearest to consists: addresses, endings, adriatic, adjectives, worship, thuringia, fibre, november,\n",
      "Nearest to event: vibrant, bartlett, quintessence, referenced, reputation, flatter, takeovers, tiger,\n",
      "Nearest to writers: nods, universitaire, pella, seeks, problematic, crash, horns, valuable,\n",
      "Nearest to experience: open, provider, identity, informal, uninterested, college, le, epidemiology,\n",
      "Nearest to square: trade, olissipo, declared, guerrillas, yugoslavia, draw, peacetime, freeport,\n",
      "Nearest to instance: herbicides, speeches, power, patrol, certainty, balearic, toronto, diophantine,\n",
      "Nearest to institute: lodges, carnage, terrain, culminating, independent, jurists, delivered, equipment,\n",
      "Nearest to pressure: crisp, vulcan, earle, helm, der, subtracting, horsemanship, tls,\n",
      "Epoch 1/10 Iteration: 2100 Avg. Training loss: 4.9378 0.4667 sec/batch\n",
      "Epoch 1/10 Iteration: 2200 Avg. Training loss: 4.8950 0.4228 sec/batch\n",
      "Epoch 1/10 Iteration: 2300 Avg. Training loss: 4.9094 0.4519 sec/batch\n",
      "Epoch 1/10 Iteration: 2400 Avg. Training loss: 4.8779 0.4533 sec/batch\n",
      "Epoch 1/10 Iteration: 2500 Avg. Training loss: 4.8284 0.4300 sec/batch\n",
      "Epoch 1/10 Iteration: 2600 Avg. Training loss: 4.8249 0.4139 sec/batch\n",
      "Epoch 1/10 Iteration: 2700 Avg. Training loss: 4.7962 0.3725 sec/batch\n",
      "Epoch 1/10 Iteration: 2800 Avg. Training loss: 4.7896 0.4320 sec/batch\n",
      "Epoch 1/10 Iteration: 2900 Avg. Training loss: 4.7857 0.4235 sec/batch\n",
      "Epoch 1/10 Iteration: 3000 Avg. Training loss: 4.7797 0.4306 sec/batch\n",
      "Nearest to years: copilot, detail, soccer, bookchin, funding, infty, confuse, donating,\n",
      "Nearest to seven: benefactor, rosary, ayahuasca, one, huldrych, chamorro, sanctified, pandit,\n",
      "Nearest to often: castaways, indicate, biology, fundamentally, concordes, guinee, predictions, almanac,\n",
      "Nearest to between: emphasizes, venus, ratu, electroplating, shuffles, reign, personnel, poee,\n",
      "Nearest to one: suffolk, nine, throne, outright, october, guangzhou, miscarriage, two,\n",
      "Nearest to not: soloists, forgive, intense, nubian, reputedly, bullets, fretted, zener,\n",
      "Nearest to three: participated, vonnegut, birth, ladies, evangelical, snowy, inhabitants, juan,\n",
      "Nearest to be: experimenting, differentiability, bok, aluminum, metaphorical, interscope, subject, stipulates,\n",
      "Nearest to consists: endings, adjectives, thuringia, exhorted, adriatic, esprit, addresses, fibre,\n",
      "Nearest to event: vibrant, reputation, quintessence, bartlett, flatter, redman, referenced, baresi,\n",
      "Nearest to writers: nods, seeks, universitaire, pella, crash, troublesome, tomorrow, salaried,\n",
      "Nearest to experience: open, provider, uninterested, informal, impressed, le, identity, stacks,\n",
      "Nearest to square: olissipo, trade, yugoslavia, guerrillas, peacetime, rainfall, draw, declared,\n",
      "Nearest to instance: herbicides, speeches, patrol, certainty, power, agile, thessalonians, toronto,\n",
      "Nearest to institute: lodges, culminating, carnage, terrain, independent, jurists, delivered, boards,\n",
      "Nearest to pressure: earle, crisp, vulcan, tls, helm, treasurer, alvarez, leukemia,\n",
      "Epoch 1/10 Iteration: 3100 Avg. Training loss: 4.7713 0.3964 sec/batch\n",
      "Epoch 1/10 Iteration: 3200 Avg. Training loss: 4.7388 0.4274 sec/batch\n",
      "Epoch 1/10 Iteration: 3300 Avg. Training loss: 4.7228 0.3861 sec/batch\n",
      "Epoch 1/10 Iteration: 3400 Avg. Training loss: 4.7164 0.4023 sec/batch\n",
      "Epoch 1/10 Iteration: 3500 Avg. Training loss: 4.7458 0.4429 sec/batch\n",
      "Epoch 1/10 Iteration: 3600 Avg. Training loss: 4.7108 0.4126 sec/batch\n",
      "Epoch 1/10 Iteration: 3700 Avg. Training loss: 4.7258 0.3502 sec/batch\n",
      "Epoch 1/10 Iteration: 3800 Avg. Training loss: 4.7008 0.3954 sec/batch\n",
      "Epoch 1/10 Iteration: 3900 Avg. Training loss: 4.6876 0.4395 sec/batch\n",
      "Epoch 1/10 Iteration: 4000 Avg. Training loss: 4.6697 0.3945 sec/batch\n",
      "Nearest to years: copilot, congratulated, bookchin, donating, flashpoint, stair, detail, bukhari,\n",
      "Nearest to seven: one, benefactor, rosary, actor, st, ayahuasca, wavering, sanctified,\n",
      "Nearest to often: castaways, indicate, biology, concordes, fundamentally, guinee, cruel, sell,\n",
      "Nearest to between: emphasizes, electroplating, ratu, venus, gentler, shuffles, unwillingly, iit,\n",
      "Nearest to one: seven, nine, two, politician, october, musician, six, guangzhou,\n",
      "Nearest to not: soloists, forgive, reputedly, nubian, circumstance, fretted, intense, assume,\n",
      "Nearest to three: five, participated, vonnegut, six, snowy, birth, ladies, juan,\n",
      "Nearest to be: differentiability, experimenting, aluminum, bok, evidently, metaphorical, tanna, appliances,\n",
      "Nearest to consists: endings, esprit, thuringia, adjectives, pattie, exhorted, gwynne, adriatic,\n",
      "Nearest to event: reputation, vibrant, bartlett, quintessence, flatter, redman, takeovers, wollstonecraft,\n",
      "Nearest to writers: nods, troublesome, tomorrow, bourque, crash, pella, universitaire, seeks,\n",
      "Nearest to experience: uninterested, open, provider, impressed, informal, stacks, identity, delayed,\n",
      "Nearest to square: olissipo, rainfall, trade, guerrillas, saloons, yugoslavia, wettest, peacetime,\n",
      "Nearest to instance: herbicides, speeches, patrol, certainty, power, correspond, wrongly, manmade,\n",
      "Nearest to institute: lodges, culminating, independent, carnage, terrain, placebo, jurists, boards,\n",
      "Nearest to pressure: earle, crisp, tls, treasurer, zamenhof, vulcan, unmaking, tritium,\n",
      "Epoch 1/10 Iteration: 4100 Avg. Training loss: 4.6747 0.3983 sec/batch\n",
      "Epoch 1/10 Iteration: 4200 Avg. Training loss: 4.6738 0.3752 sec/batch\n",
      "Epoch 1/10 Iteration: 4300 Avg. Training loss: 4.6228 0.4604 sec/batch\n",
      "Epoch 1/10 Iteration: 4400 Avg. Training loss: 4.6665 0.5965 sec/batch\n",
      "Epoch 1/10 Iteration: 4500 Avg. Training loss: 4.6303 0.5779 sec/batch\n",
      "Epoch 1/10 Iteration: 4600 Avg. Training loss: 4.6270 0.3967 sec/batch\n",
      "Epoch 2/10 Iteration: 4700 Avg. Training loss: 4.5860 0.2856 sec/batch\n",
      "Epoch 2/10 Iteration: 4800 Avg. Training loss: 4.5638 0.3682 sec/batch\n",
      "Epoch 2/10 Iteration: 4900 Avg. Training loss: 4.5139 0.3786 sec/batch\n",
      "Epoch 2/10 Iteration: 5000 Avg. Training loss: 4.5037 0.3565 sec/batch\n",
      "Nearest to years: copilot, congratulated, bukhari, bookchin, donating, stair, wang, flashpoint,\n",
      "Nearest to seven: one, benefactor, actor, laureate, violinist, recipient, st, aeneid,\n",
      "Nearest to often: castaways, indicate, fundamentally, biology, concordes, guinee, alter, too,\n",
      "Nearest to between: emphasizes, ratu, electroplating, unwillingly, venus, shuffles, gentler, ado,\n",
      "Nearest to one: seven, nine, two, musician, d, six, scholar, politician,\n",
      "Nearest to not: nubian, soloists, fretted, reputedly, assume, circumstance, ceres, forgive,\n",
      "Nearest to three: five, six, juan, vonnegut, participated, one, snowy, comedian,\n",
      "Nearest to be: experimenting, differentiability, tanna, powerpc, aluminum, metaphorical, alter, cyclopentadienyl,\n",
      "Nearest to consists: esprit, endings, pattie, adjectives, gwynne, thuringia, exhorted, warping,\n",
      "Nearest to event: reputation, vibrant, quintessence, wollstonecraft, bartlett, redman, gions, ayurvedic,\n",
      "Nearest to writers: nods, tomorrow, bourque, troublesome, pella, horns, beauty, mistake,\n",
      "Nearest to experience: uninterested, open, impressed, identity, stacks, informal, lika, provider,\n",
      "Nearest to square: olissipo, rainfall, saloons, guerrillas, trade, mountain, wettest, north,\n",
      "Nearest to instance: herbicides, certainty, correspond, patrol, speeches, manmade, wrongly, floccinaucinihilipilification,\n",
      "Nearest to institute: lodges, culminating, independent, carnage, terrain, placebo, jurists, unbeatable,\n",
      "Nearest to pressure: earle, crisp, unmaking, tls, zamenhof, tritium, leukemia, dordrecht,\n",
      "Epoch 2/10 Iteration: 5100 Avg. Training loss: 4.4779 0.3883 sec/batch\n",
      "Epoch 2/10 Iteration: 5200 Avg. Training loss: 4.5012 0.3917 sec/batch\n",
      "Epoch 2/10 Iteration: 5300 Avg. Training loss: 4.4576 0.3904 sec/batch\n",
      "Epoch 2/10 Iteration: 5400 Avg. Training loss: 4.5084 0.3820 sec/batch\n",
      "Epoch 2/10 Iteration: 5500 Avg. Training loss: 4.5092 0.3628 sec/batch\n",
      "Epoch 2/10 Iteration: 5600 Avg. Training loss: 4.4860 0.4025 sec/batch\n",
      "Epoch 2/10 Iteration: 5700 Avg. Training loss: 4.4536 0.4201 sec/batch\n",
      "Epoch 2/10 Iteration: 5800 Avg. Training loss: 4.4190 0.4226 sec/batch\n",
      "Epoch 2/10 Iteration: 5900 Avg. Training loss: 4.4346 0.3815 sec/batch\n",
      "Epoch 2/10 Iteration: 6000 Avg. Training loss: 4.4078 0.3768 sec/batch\n",
      "Nearest to years: congratulated, bukhari, donating, female, copilot, capita, stair, flashpoint,\n",
      "Nearest to seven: one, benefactor, million, ayahuasca, aeneid, prelate, rosary, pandit,\n",
      "Nearest to often: castaways, fundamentally, indicate, concordes, biology, cruel, breathy, too,\n",
      "Nearest to between: ratu, emphasizes, electroplating, unwillingly, ado, shuffles, venus, belief,\n",
      "Nearest to one: two, seven, nielsen, six, nine, suffolk, achieves, guangzhou,\n",
      "Nearest to not: nubian, assume, deciding, soloists, ceres, reputedly, circumstance, forgive,\n",
      "Nearest to three: five, six, juan, vonnegut, snowy, hants, median, billings,\n",
      "Nearest to be: experimenting, differentiability, tanna, aluminum, powerpc, metaphorical, bubbles, cyclopentadienyl,\n",
      "Nearest to consists: esprit, pattie, endings, warping, gwynne, snaps, adjectives, fibre,\n",
      "Nearest to event: vibrant, reputation, quintessence, redman, wollstonecraft, bartlett, gions, baresi,\n",
      "Nearest to writers: nods, tomorrow, beauty, bourque, troublesome, pella, alif, mistake,\n",
      "Nearest to experience: identity, individual, uninterested, stacks, informal, open, lika, impressed,\n",
      "Nearest to square: rainfall, mountain, saloons, olissipo, north, lr, miles, wettest,\n",
      "Nearest to instance: herbicides, certainty, correspond, develop, speculate, membranes, floccinaucinihilipilification, any,\n",
      "Nearest to institute: lodges, independent, culminating, carnage, khad, placebo, terrain, unbeatable,\n",
      "Nearest to pressure: earle, crisp, tritium, unmaking, zamenhof, tls, catalyze, dordrecht,\n",
      "Epoch 2/10 Iteration: 6100 Avg. Training loss: 4.4277 0.3949 sec/batch\n",
      "Epoch 2/10 Iteration: 6200 Avg. Training loss: 4.4201 0.3494 sec/batch\n",
      "Epoch 2/10 Iteration: 6300 Avg. Training loss: 4.4326 0.4153 sec/batch\n",
      "Epoch 2/10 Iteration: 6400 Avg. Training loss: 4.3915 0.4021 sec/batch\n",
      "Epoch 2/10 Iteration: 6500 Avg. Training loss: 4.4069 0.3637 sec/batch\n",
      "Epoch 2/10 Iteration: 6600 Avg. Training loss: 4.4186 0.3372 sec/batch\n",
      "Epoch 2/10 Iteration: 6700 Avg. Training loss: 4.3943 0.3510 sec/batch\n",
      "Epoch 2/10 Iteration: 6800 Avg. Training loss: 4.4007 0.3743 sec/batch\n",
      "Epoch 2/10 Iteration: 6900 Avg. Training loss: 4.4052 0.3521 sec/batch\n",
      "Epoch 2/10 Iteration: 7000 Avg. Training loss: 4.3700 0.3729 sec/batch\n",
      "Nearest to years: female, capita, bukhari, congratulated, donating, stair, copilot, flashpoint,\n",
      "Nearest to seven: one, benefactor, ayahuasca, million, prelate, pandit, five, univ,\n",
      "Nearest to often: castaways, fundamentally, indicate, cruel, concordes, headmaster, breathy, too,\n",
      "Nearest to between: emphasizes, ratu, electroplating, unwillingly, shuffles, giraldus, venus, occurrence,\n",
      "Nearest to one: two, seven, six, nine, nielsen, neuroscientist, three, scholar,\n",
      "Nearest to not: reputedly, nubian, circumstance, forgive, retainers, assume, deciding, ceres,\n",
      "Nearest to three: five, six, juan, vonnegut, billings, snowy, four, hants,\n",
      "Nearest to be: differentiability, experimenting, aluminum, tanna, powerpc, metaphorical, bubbles, subject,\n",
      "Nearest to consists: esprit, warping, pattie, endings, gwynne, fibre, snaps, federline,\n",
      "Nearest to event: vibrant, reputation, quintessence, redman, baresi, gions, takeovers, wollstonecraft,\n",
      "Nearest to writers: nods, beauty, tomorrow, bourque, playwright, troublesome, alif, lys,\n",
      "Nearest to experience: identity, individual, impressed, uninterested, informal, stacks, lax, lika,\n",
      "Nearest to square: rainfall, mountain, saloons, olissipo, miles, north, wettest, lr,\n",
      "Nearest to instance: certainty, herbicides, any, correspond, floccinaucinihilipilification, membranes, injective, restrict,\n",
      "Nearest to institute: lodges, independent, culminating, khad, equipment, oncology, fosters, carnage,\n",
      "Nearest to pressure: tritium, crisp, unmaking, catalyze, earle, minus, zamenhof, tls,\n",
      "Epoch 2/10 Iteration: 7100 Avg. Training loss: 4.3793 0.3524 sec/batch\n",
      "Epoch 2/10 Iteration: 7200 Avg. Training loss: 4.3924 0.3480 sec/batch\n",
      "Epoch 2/10 Iteration: 7300 Avg. Training loss: 4.3722 0.3523 sec/batch\n",
      "Epoch 2/10 Iteration: 7400 Avg. Training loss: 4.3638 0.3912 sec/batch\n",
      "Epoch 2/10 Iteration: 7500 Avg. Training loss: 4.4023 0.3762 sec/batch\n",
      "Epoch 2/10 Iteration: 7600 Avg. Training loss: 4.3759 0.4188 sec/batch\n",
      "Epoch 2/10 Iteration: 7700 Avg. Training loss: 4.3964 0.3750 sec/batch\n",
      "Epoch 2/10 Iteration: 7800 Avg. Training loss: 4.3767 0.3590 sec/batch\n",
      "Epoch 2/10 Iteration: 7900 Avg. Training loss: 4.3369 0.3716 sec/batch\n",
      "Epoch 2/10 Iteration: 8000 Avg. Training loss: 4.3341 0.3539 sec/batch\n",
      "Nearest to years: female, migrant, bukhari, capita, mortality, birth, fertility, congratulated,\n",
      "Nearest to seven: one, benefactor, five, million, prelate, two, zero, ayahuasca,\n",
      "Nearest to often: castaways, indicate, fundamentally, breathy, cruel, concordes, headmaster, desires,\n",
      "Nearest to between: emphasizes, unwillingly, ratu, electroplating, ado, occurrence, giraldus, socio,\n",
      "Nearest to one: two, seven, six, nine, three, nielsen, four, neuroscientist,\n",
      "Nearest to not: reputedly, circumstance, deciding, assume, forgive, may, retainers, fretted,\n",
      "Nearest to three: five, six, four, one, two, unpaved, juan, vonnegut,\n",
      "Nearest to be: differentiability, tanna, experimenting, powerpc, aluminum, subject, metaphorical, sandbox,\n",
      "Nearest to consists: esprit, warping, pattie, upper, endings, federline, fibre, depositary,\n",
      "Nearest to event: vibrant, reputation, goatskin, redman, gions, quintessence, baresi, bartlett,\n",
      "Nearest to writers: beauty, tomorrow, nods, bourque, playwright, troublesome, myosin, pentecostalism,\n",
      "Nearest to experience: identity, individual, informal, impressed, uninterested, artful, open, vanishes,\n",
      "Nearest to square: mountain, rainfall, miles, saloons, olissipo, north, lr, wettest,\n",
      "Nearest to instance: herbicides, certainty, correspond, floccinaucinihilipilification, any, speculate, spier, restrict,\n",
      "Nearest to institute: lodges, independent, culminating, khad, fosters, faculty, oncology, equipment,\n",
      "Nearest to pressure: tritium, earle, unmaking, minus, zamenhof, crisp, tls, dordrecht,\n",
      "Epoch 2/10 Iteration: 8100 Avg. Training loss: 4.3170 0.3894 sec/batch\n",
      "Epoch 2/10 Iteration: 8200 Avg. Training loss: 4.2866 0.4335 sec/batch\n",
      "Epoch 2/10 Iteration: 8300 Avg. Training loss: 4.3710 0.3718 sec/batch\n",
      "Epoch 2/10 Iteration: 8400 Avg. Training loss: 4.3481 0.3872 sec/batch\n",
      "Epoch 2/10 Iteration: 8500 Avg. Training loss: 4.3714 0.3913 sec/batch\n",
      "Epoch 2/10 Iteration: 8600 Avg. Training loss: 4.2631 0.3730 sec/batch\n",
      "Epoch 2/10 Iteration: 8700 Avg. Training loss: 4.3055 0.4071 sec/batch\n",
      "Epoch 2/10 Iteration: 8800 Avg. Training loss: 4.3363 0.3714 sec/batch\n",
      "Epoch 2/10 Iteration: 8900 Avg. Training loss: 4.2556 0.3578 sec/batch\n",
      "Epoch 2/10 Iteration: 9000 Avg. Training loss: 4.3341 0.3482 sec/batch\n",
      "Nearest to years: female, migrant, mortality, fertility, birth, bukhari, capita, donating,\n",
      "Nearest to seven: one, zero, two, five, benefactor, prelate, laureate, million,\n",
      "Nearest to often: castaways, fundamentally, indicate, breathy, cruel, desires, concordes, headmaster,\n",
      "Nearest to between: emphasizes, ratu, electroplating, unwillingly, ado, shuffles, occurrence, socio,\n",
      "Nearest to one: two, seven, nine, six, three, neuroscientist, nielsen, parkman,\n",
      "Nearest to not: circumstance, provably, forgive, reputedly, assume, may, deciding, fretted,\n",
      "Nearest to three: five, six, four, one, two, juan, unpaved, eight,\n",
      "Nearest to be: differentiability, tanna, experimenting, aluminum, sandbox, step, nontoxic, powerpc,\n",
      "Nearest to consists: esprit, warping, upper, pattie, depositary, federline, fibre, endings,\n",
      "Nearest to event: vibrant, reputation, redman, goatskin, baresi, gions, quintessence, bartlett,\n",
      "Nearest to writers: beauty, nods, tomorrow, bourque, lys, pentecostalism, troublesome, editorial,\n",
      "Nearest to experience: impressed, individual, informal, uninterested, artful, identity, conscious, lika,\n",
      "Nearest to square: miles, mountain, olissipo, rainfall, lr, saloons, wettest, area,\n",
      "Nearest to instance: certainty, herbicides, correspond, floccinaucinihilipilification, any, injective, restrict, spier,\n",
      "Nearest to institute: lodges, faculty, khad, oncology, independent, equipment, fosters, culminating,\n",
      "Nearest to pressure: tritium, minus, earle, unmaking, evading, franjo, leukemia, crisp,\n",
      "Epoch 2/10 Iteration: 9100 Avg. Training loss: 4.3069 0.3528 sec/batch\n",
      "Epoch 2/10 Iteration: 9200 Avg. Training loss: 4.3036 0.3536 sec/batch\n",
      "Epoch 3/10 Iteration: 9300 Avg. Training loss: 4.3259 0.1658 sec/batch\n",
      "Epoch 3/10 Iteration: 9400 Avg. Training loss: 4.2547 0.3457 sec/batch\n",
      "Epoch 3/10 Iteration: 9500 Avg. Training loss: 4.2348 0.3475 sec/batch\n",
      "Epoch 3/10 Iteration: 9600 Avg. Training loss: 4.2241 0.3495 sec/batch\n",
      "Epoch 3/10 Iteration: 9700 Avg. Training loss: 4.2202 0.3836 sec/batch\n",
      "Epoch 3/10 Iteration: 9800 Avg. Training loss: 4.2104 0.4022 sec/batch\n",
      "Epoch 3/10 Iteration: 9900 Avg. Training loss: 4.1930 0.4015 sec/batch\n",
      "Epoch 3/10 Iteration: 10000 Avg. Training loss: 4.1945 0.4199 sec/batch\n",
      "Nearest to years: female, migrant, mortality, birth, fertility, capita, bukhari, donating,\n",
      "Nearest to seven: one, zero, two, five, benefactor, prelate, million, four,\n",
      "Nearest to often: castaways, fundamentally, indicate, breathy, cruel, treatments, concordes, scoop,\n",
      "Nearest to between: ratu, emphasizes, electroplating, unwillingly, ado, woodlands, shelling, venus,\n",
      "Nearest to one: two, seven, six, nine, three, four, parkman, five,\n",
      "Nearest to not: circumstance, forgive, reputedly, provably, deciding, assume, attainment, may,\n",
      "Nearest to three: five, six, four, one, two, zero, unpaved, eight,\n",
      "Nearest to be: experimenting, differentiability, tanna, nontoxic, dorris, sandbox, powerpc, instantly,\n",
      "Nearest to consists: esprit, warping, upper, miso, pattie, depositary, endings, imbedded,\n",
      "Nearest to event: vibrant, reputation, baresi, redman, goatskin, gions, bartlett, arianespace,\n",
      "Nearest to writers: beauty, nods, tomorrow, pentecostalism, editorial, bourque, lys, troublesome,\n",
      "Nearest to experience: impressed, individual, uninterested, artful, informal, conscious, identity, lika,\n",
      "Nearest to square: miles, olissipo, area, lr, mountain, north, saloons, yugoslavia,\n",
      "Nearest to instance: certainty, herbicides, floccinaucinihilipilification, correspond, any, restrict, magnified, spier,\n",
      "Nearest to institute: faculty, lodges, oncology, khad, independent, equipment, schools, fosters,\n",
      "Nearest to pressure: tritium, minus, unmaking, crisp, leukemia, syringe, glazed, masking,\n",
      "Epoch 3/10 Iteration: 10100 Avg. Training loss: 4.2404 0.4838 sec/batch\n",
      "Epoch 3/10 Iteration: 10200 Avg. Training loss: 4.2164 0.3833 sec/batch\n",
      "Epoch 3/10 Iteration: 10300 Avg. Training loss: 4.2233 0.3859 sec/batch\n",
      "Epoch 3/10 Iteration: 10400 Avg. Training loss: 4.1299 0.3707 sec/batch\n",
      "Epoch 3/10 Iteration: 10500 Avg. Training loss: 4.1763 0.3609 sec/batch\n"
     ]
    },
    {
     "ename": "KeyboardInterrupt",
     "evalue": "",
     "output_type": "error",
     "traceback": [
      "\u001b[0;31m---------------------------------------------------------------------------\u001b[0m",
      "\u001b[0;31mKeyboardInterrupt\u001b[0m                         Traceback (most recent call last)",
      "\u001b[0;32m<ipython-input-16-b1d3869cd0d6>\u001b[0m in \u001b[0;36m<module>\u001b[0;34m()\u001b[0m\n\u001b[1;32m     18\u001b[0m             feed = {inputs: x,\n\u001b[1;32m     19\u001b[0m                     labels: np.array(y)[:, None]}\n\u001b[0;32m---> 20\u001b[0;31m             \u001b[0mtrain_loss\u001b[0m\u001b[0;34m,\u001b[0m \u001b[0m_\u001b[0m \u001b[0;34m=\u001b[0m \u001b[0msess\u001b[0m\u001b[0;34m.\u001b[0m\u001b[0mrun\u001b[0m\u001b[0;34m(\u001b[0m\u001b[0;34m[\u001b[0m\u001b[0mcost\u001b[0m\u001b[0;34m,\u001b[0m \u001b[0moptimizer\u001b[0m\u001b[0;34m]\u001b[0m\u001b[0;34m,\u001b[0m \u001b[0mfeed_dict\u001b[0m\u001b[0;34m=\u001b[0m\u001b[0mfeed\u001b[0m\u001b[0;34m)\u001b[0m\u001b[0;34m\u001b[0m\u001b[0m\n\u001b[0m\u001b[1;32m     21\u001b[0m \u001b[0;34m\u001b[0m\u001b[0m\n\u001b[1;32m     22\u001b[0m             \u001b[0mloss\u001b[0m \u001b[0;34m+=\u001b[0m \u001b[0mtrain_loss\u001b[0m\u001b[0;34m\u001b[0m\u001b[0m\n",
      "\u001b[0;32m/home/alex/anaconda3/envs/dlnd/lib/python3.6/site-packages/tensorflow/python/client/session.py\u001b[0m in \u001b[0;36mrun\u001b[0;34m(self, fetches, feed_dict, options, run_metadata)\u001b[0m\n\u001b[1;32m    776\u001b[0m     \u001b[0;32mtry\u001b[0m\u001b[0;34m:\u001b[0m\u001b[0;34m\u001b[0m\u001b[0m\n\u001b[1;32m    777\u001b[0m       result = self._run(None, fetches, feed_dict, options_ptr,\n\u001b[0;32m--> 778\u001b[0;31m                          run_metadata_ptr)\n\u001b[0m\u001b[1;32m    779\u001b[0m       \u001b[0;32mif\u001b[0m \u001b[0mrun_metadata\u001b[0m\u001b[0;34m:\u001b[0m\u001b[0;34m\u001b[0m\u001b[0m\n\u001b[1;32m    780\u001b[0m         \u001b[0mproto_data\u001b[0m \u001b[0;34m=\u001b[0m \u001b[0mtf_session\u001b[0m\u001b[0;34m.\u001b[0m\u001b[0mTF_GetBuffer\u001b[0m\u001b[0;34m(\u001b[0m\u001b[0mrun_metadata_ptr\u001b[0m\u001b[0;34m)\u001b[0m\u001b[0;34m\u001b[0m\u001b[0m\n",
      "\u001b[0;32m/home/alex/anaconda3/envs/dlnd/lib/python3.6/site-packages/tensorflow/python/client/session.py\u001b[0m in \u001b[0;36m_run\u001b[0;34m(self, handle, fetches, feed_dict, options, run_metadata)\u001b[0m\n\u001b[1;32m    980\u001b[0m     \u001b[0;32mif\u001b[0m \u001b[0mfinal_fetches\u001b[0m \u001b[0;32mor\u001b[0m \u001b[0mfinal_targets\u001b[0m\u001b[0;34m:\u001b[0m\u001b[0;34m\u001b[0m\u001b[0m\n\u001b[1;32m    981\u001b[0m       results = self._do_run(handle, final_targets, final_fetches,\n\u001b[0;32m--> 982\u001b[0;31m                              feed_dict_string, options, run_metadata)\n\u001b[0m\u001b[1;32m    983\u001b[0m     \u001b[0;32melse\u001b[0m\u001b[0;34m:\u001b[0m\u001b[0;34m\u001b[0m\u001b[0m\n\u001b[1;32m    984\u001b[0m       \u001b[0mresults\u001b[0m \u001b[0;34m=\u001b[0m \u001b[0;34m[\u001b[0m\u001b[0;34m]\u001b[0m\u001b[0;34m\u001b[0m\u001b[0m\n",
      "\u001b[0;32m/home/alex/anaconda3/envs/dlnd/lib/python3.6/site-packages/tensorflow/python/client/session.py\u001b[0m in \u001b[0;36m_do_run\u001b[0;34m(self, handle, target_list, fetch_list, feed_dict, options, run_metadata)\u001b[0m\n\u001b[1;32m   1030\u001b[0m     \u001b[0;32mif\u001b[0m \u001b[0mhandle\u001b[0m \u001b[0;32mis\u001b[0m \u001b[0;32mNone\u001b[0m\u001b[0;34m:\u001b[0m\u001b[0;34m\u001b[0m\u001b[0m\n\u001b[1;32m   1031\u001b[0m       return self._do_call(_run_fn, self._session, feed_dict, fetch_list,\n\u001b[0;32m-> 1032\u001b[0;31m                            target_list, options, run_metadata)\n\u001b[0m\u001b[1;32m   1033\u001b[0m     \u001b[0;32melse\u001b[0m\u001b[0;34m:\u001b[0m\u001b[0;34m\u001b[0m\u001b[0m\n\u001b[1;32m   1034\u001b[0m       return self._do_call(_prun_fn, self._session, handle, feed_dict,\n",
      "\u001b[0;32m/home/alex/anaconda3/envs/dlnd/lib/python3.6/site-packages/tensorflow/python/client/session.py\u001b[0m in \u001b[0;36m_do_call\u001b[0;34m(self, fn, *args)\u001b[0m\n\u001b[1;32m   1037\u001b[0m   \u001b[0;32mdef\u001b[0m \u001b[0m_do_call\u001b[0m\u001b[0;34m(\u001b[0m\u001b[0mself\u001b[0m\u001b[0;34m,\u001b[0m \u001b[0mfn\u001b[0m\u001b[0;34m,\u001b[0m \u001b[0;34m*\u001b[0m\u001b[0margs\u001b[0m\u001b[0;34m)\u001b[0m\u001b[0;34m:\u001b[0m\u001b[0;34m\u001b[0m\u001b[0m\n\u001b[1;32m   1038\u001b[0m     \u001b[0;32mtry\u001b[0m\u001b[0;34m:\u001b[0m\u001b[0;34m\u001b[0m\u001b[0m\n\u001b[0;32m-> 1039\u001b[0;31m       \u001b[0;32mreturn\u001b[0m \u001b[0mfn\u001b[0m\u001b[0;34m(\u001b[0m\u001b[0;34m*\u001b[0m\u001b[0margs\u001b[0m\u001b[0;34m)\u001b[0m\u001b[0;34m\u001b[0m\u001b[0m\n\u001b[0m\u001b[1;32m   1040\u001b[0m     \u001b[0;32mexcept\u001b[0m \u001b[0merrors\u001b[0m\u001b[0;34m.\u001b[0m\u001b[0mOpError\u001b[0m \u001b[0;32mas\u001b[0m \u001b[0me\u001b[0m\u001b[0;34m:\u001b[0m\u001b[0;34m\u001b[0m\u001b[0m\n\u001b[1;32m   1041\u001b[0m       \u001b[0mmessage\u001b[0m \u001b[0;34m=\u001b[0m \u001b[0mcompat\u001b[0m\u001b[0;34m.\u001b[0m\u001b[0mas_text\u001b[0m\u001b[0;34m(\u001b[0m\u001b[0me\u001b[0m\u001b[0;34m.\u001b[0m\u001b[0mmessage\u001b[0m\u001b[0;34m)\u001b[0m\u001b[0;34m\u001b[0m\u001b[0m\n",
      "\u001b[0;32m/home/alex/anaconda3/envs/dlnd/lib/python3.6/site-packages/tensorflow/python/client/session.py\u001b[0m in \u001b[0;36m_run_fn\u001b[0;34m(session, feed_dict, fetch_list, target_list, options, run_metadata)\u001b[0m\n\u001b[1;32m   1019\u001b[0m         return tf_session.TF_Run(session, options,\n\u001b[1;32m   1020\u001b[0m                                  \u001b[0mfeed_dict\u001b[0m\u001b[0;34m,\u001b[0m \u001b[0mfetch_list\u001b[0m\u001b[0;34m,\u001b[0m \u001b[0mtarget_list\u001b[0m\u001b[0;34m,\u001b[0m\u001b[0;34m\u001b[0m\u001b[0m\n\u001b[0;32m-> 1021\u001b[0;31m                                  status, run_metadata)\n\u001b[0m\u001b[1;32m   1022\u001b[0m \u001b[0;34m\u001b[0m\u001b[0m\n\u001b[1;32m   1023\u001b[0m     \u001b[0;32mdef\u001b[0m \u001b[0m_prun_fn\u001b[0m\u001b[0;34m(\u001b[0m\u001b[0msession\u001b[0m\u001b[0;34m,\u001b[0m \u001b[0mhandle\u001b[0m\u001b[0;34m,\u001b[0m \u001b[0mfeed_dict\u001b[0m\u001b[0;34m,\u001b[0m \u001b[0mfetch_list\u001b[0m\u001b[0;34m)\u001b[0m\u001b[0;34m:\u001b[0m\u001b[0;34m\u001b[0m\u001b[0m\n",
      "\u001b[0;31mKeyboardInterrupt\u001b[0m: "
     ]
    }
   ],
   "source": [
    "epochs = 10\n",
    "batch_size = 1000\n",
    "window_size = 10\n",
    "\n",
    "with train_graph.as_default():\n",
    "    saver = tf.train.Saver()\n",
    "\n",
    "with tf.Session(graph=train_graph) as sess:\n",
    "    iteration = 1\n",
    "    loss = 0\n",
    "    sess.run(tf.global_variables_initializer())\n",
    "\n",
    "    for e in range(1, epochs+1):\n",
    "        batches = get_batches(train_words, batch_size, window_size)\n",
    "        start = time.time()\n",
    "        for x, y in batches:\n",
    "            \n",
    "            feed = {inputs: x,\n",
    "                    labels: np.array(y)[:, None]}\n",
    "            train_loss, _ = sess.run([cost, optimizer], feed_dict=feed)\n",
    "            \n",
    "            loss += train_loss\n",
    "            \n",
    "            if iteration % 100 == 0: \n",
    "                end = time.time()\n",
    "                print(\"Epoch {}/{}\".format(e, epochs),\n",
    "                      \"Iteration: {}\".format(iteration),\n",
    "                      \"Avg. Training loss: {:.4f}\".format(loss/100),\n",
    "                      \"{:.4f} sec/batch\".format((end-start)/100))\n",
    "                loss = 0\n",
    "                start = time.time()\n",
    "            \n",
    "            if iteration % 1000 == 0:\n",
    "                ## From Thushan Ganegedara's implementation\n",
    "                # note that this is expensive (~20% slowdown if computed every 500 steps)\n",
    "                sim = similarity.eval()\n",
    "                for i in range(valid_size):\n",
    "                    valid_word = int_to_vocab[valid_examples[i]]\n",
    "                    top_k = 8 # number of nearest neighbors\n",
    "                    nearest = (-sim[i, :]).argsort()[1:top_k+1]\n",
    "                    log = 'Nearest to %s:' % valid_word\n",
    "                    for k in range(top_k):\n",
    "                        close_word = int_to_vocab[nearest[k]]\n",
    "                        log = '%s %s,' % (log, close_word)\n",
    "                    print(log)\n",
    "            \n",
    "            iteration += 1\n",
    "    save_path = saver.save(sess, \"checkpoints/text8.ckpt\")\n",
    "    embed_mat = sess.run(normalized_embedding)"
   ]
  },
  {
   "cell_type": "markdown",
   "metadata": {
    "deletable": true,
    "editable": true
   },
   "source": [
    "Restore the trained network if you need to:"
   ]
  },
  {
   "cell_type": "code",
   "execution_count": null,
   "metadata": {
    "collapsed": false,
    "deletable": true,
    "editable": true
   },
   "outputs": [],
   "source": [
    "with train_graph.as_default():\n",
    "    saver = tf.train.Saver()\n",
    "\n",
    "with tf.Session(graph=train_graph) as sess:\n",
    "    saver.restore(sess, tf.train.latest_checkpoint('checkpoints'))\n",
    "    embed_mat = sess.run(embedding)"
   ]
  },
  {
   "cell_type": "markdown",
   "metadata": {
    "deletable": true,
    "editable": true
   },
   "source": [
    "## Visualizing the word vectors\n",
    "\n",
    "Below we'll use T-SNE to visualize how our high-dimensional word vectors cluster together. T-SNE is used to project these vectors into two dimensions while preserving local stucture. Check out [this post from Christopher Olah](http://colah.github.io/posts/2014-10-Visualizing-MNIST/) to learn more about T-SNE and other ways to visualize high-dimensional data."
   ]
  },
  {
   "cell_type": "code",
   "execution_count": null,
   "metadata": {
    "collapsed": false,
    "deletable": true,
    "editable": true
   },
   "outputs": [],
   "source": [
    "%matplotlib inline\n",
    "%config InlineBackend.figure_format = 'retina'\n",
    "\n",
    "import matplotlib.pyplot as plt\n",
    "from sklearn.manifold import TSNE"
   ]
  },
  {
   "cell_type": "code",
   "execution_count": null,
   "metadata": {
    "collapsed": false,
    "deletable": true,
    "editable": true
   },
   "outputs": [],
   "source": [
    "viz_words = 500\n",
    "tsne = TSNE()\n",
    "embed_tsne = tsne.fit_transform(embed_mat[:viz_words, :])"
   ]
  },
  {
   "cell_type": "code",
   "execution_count": null,
   "metadata": {
    "collapsed": false,
    "deletable": true,
    "editable": true
   },
   "outputs": [],
   "source": [
    "fig, ax = plt.subplots(figsize=(14, 14))\n",
    "for idx in range(viz_words):\n",
    "    plt.scatter(*embed_tsne[idx, :], color='steelblue')\n",
    "    plt.annotate(int_to_vocab[idx], (embed_tsne[idx, 0], embed_tsne[idx, 1]), alpha=0.7)"
   ]
  }
 ],
 "metadata": {
  "kernelspec": {
   "display_name": "Python 3",
   "language": "python",
   "name": "python3"
  },
  "language_info": {
   "codemirror_mode": {
    "name": "ipython",
    "version": 3
   },
   "file_extension": ".py",
   "mimetype": "text/x-python",
   "name": "python",
   "nbconvert_exporter": "python",
   "pygments_lexer": "ipython3",
   "version": "3.6.1"
  }
 },
 "nbformat": 4,
 "nbformat_minor": 2
}
